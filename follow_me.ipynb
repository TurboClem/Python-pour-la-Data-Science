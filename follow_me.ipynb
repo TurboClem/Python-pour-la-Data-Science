{
 "cells": [
  {
   "cell_type": "markdown",
   "metadata": {},
   "source": [
    "We will need to install requests library :"
   ]
  },
  {
   "cell_type": "code",
   "execution_count": 19,
   "metadata": {},
   "outputs": [
    {
     "name": "stdout",
     "output_type": "stream",
     "text": [
      "Defaulting to user installation because normal site-packages is not writeable\n",
      "Requirement already satisfied: requests in /Users/clementgadeau/Library/Python/3.9/lib/python/site-packages (2.31.0)\n",
      "Requirement already satisfied: certifi>=2017.4.17 in /Users/clementgadeau/Library/Python/3.9/lib/python/site-packages (from requests) (2023.11.17)\n",
      "Requirement already satisfied: charset-normalizer<4,>=2 in /Users/clementgadeau/Library/Python/3.9/lib/python/site-packages (from requests) (3.3.2)\n",
      "Requirement already satisfied: idna<4,>=2.5 in /Users/clementgadeau/Library/Python/3.9/lib/python/site-packages (from requests) (3.6)\n",
      "Requirement already satisfied: urllib3<3,>=1.21.1 in /Users/clementgadeau/Library/Python/3.9/lib/python/site-packages (from requests) (2.1.0)\n",
      "\u001b[33mWARNING: You are using pip version 21.2.4; however, version 23.3.2 is available.\n",
      "You should consider upgrading via the '/Library/Developer/CommandLineTools/usr/bin/python3 -m pip install --upgrade pip' command.\u001b[0m\n"
     ]
    },
    {
     "name": "stderr",
     "output_type": "stream",
     "text": [
      "/Users/clementgadeau/Library/Python/3.9/lib/python/site-packages/urllib3/__init__.py:34: NotOpenSSLWarning: urllib3 v2 only supports OpenSSL 1.1.1+, currently the 'ssl' module is compiled with 'LibreSSL 2.8.3'. See: https://github.com/urllib3/urllib3/issues/3020\n",
      "  warnings.warn(\n"
     ]
    }
   ],
   "source": [
    "!pip3 install requests"
   ]
  },
  {
   "cell_type": "markdown",
   "metadata": {},
   "source": [
    "First of all, we need a dataset. To obtain it, we used the Spotify API, which needs an access key to be requested. We created a function on script2.py that returns an access token available for one hour, from our client id and secret. As this is an account created especially for this project, their is no problem for us in giving you access to our login details.\n",
    "\n",
    "The following code will create an access_token for you."
   ]
  },
  {
   "cell_type": "code",
   "execution_count": 20,
   "metadata": {},
   "outputs": [],
   "source": [
    "from Script.functions import access_token\n",
    "token = access_token()"
   ]
  },
  {
   "cell_type": "markdown",
   "metadata": {},
   "source": [
    "Then we choosed to use a 10 thousands songs playlist to build our dataset.\n",
    "\n",
    "get_all_playlist_tracks request the API to return a list of all the titles for each song in the playlist\n",
    "get_track_id_and_artist request the API to return a dataframe of the title, the artist name and the artist id for each song in the playlist."
   ]
  },
  {
   "cell_type": "code",
   "execution_count": null,
   "metadata": {},
   "outputs": [],
   "source": [
    "from functions import get_all_playlist_tracks, get_track_id_and_artist\n",
    "playlist_id = '04ZwFco4KsjgPlVMtzwfgS'\n",
    "\n",
    "playlist_tracks = get_all_playlist_tracks(playlist_id, token)\n",
    "dataset = get_track_id_and_artist(playlist_tracks)"
   ]
  },
  {
   "cell_type": "code",
   "execution_count": null,
   "metadata": {},
   "outputs": [],
   "source": []
  }
 ],
 "metadata": {
  "kernelspec": {
   "display_name": "Python 3",
   "language": "python",
   "name": "python3"
  },
  "language_info": {
   "codemirror_mode": {
    "name": "ipython",
    "version": 3
   },
   "file_extension": ".py",
   "mimetype": "text/x-python",
   "name": "python",
   "nbconvert_exporter": "python",
   "pygments_lexer": "ipython3",
   "version": "3.9.6"
  }
 },
 "nbformat": 4,
 "nbformat_minor": 2
}
